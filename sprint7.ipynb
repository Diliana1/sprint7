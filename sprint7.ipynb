{
 "cells": [
  {
   "cell_type": "markdown",
   "metadata": {},
   "source": [
    "Ejercicio 1 escribe una función que calcule el IMC ingresado por el usuario/a, es decir, quien lo ejecute deberá ingresar estos datos. "
   ]
  },
  {
   "cell_type": "code",
   "execution_count": null,
   "metadata": {},
   "outputs": [],
   "source": [
    "# - Le asigne un valor a la variable peso de tipo decimal, para solicitar el valor del peso al usuario de igual forma lo realice para la variable estatura.\n",
    "#luego asigne la formula a la variable IMC para realizar el cálculo y se manda a imprimir para q así sea visto en pantalla, se usa f que es un string en la visualización para que me muestre el mensaje de la variable IMC .\n",
    "#calculo del peso\n",
    "def calculo_imc(pe,est):\n",
    "   return  pe / (est ** 2) \n",
    "#valores de IMC\n",
    "def nivelpeso(imc):\n",
    "  if imc <  18.5:\n",
    "   return \"bajo peso\"\n",
    "  elif imc >= 18.5 and  imc < 25:\n",
    "   return \"Normal\"\n",
    "  elif imc >= 25 and imc < 30:\n",
    "   return \"Sobrepeso\"\n",
    "  else:\n",
    "   return \"Obesidad\"\n",
    "def datos_peso():\n",
    "    peso = 0\n",
    "    while not (0 < peso <= 180):\n",
    "        peso = float(input(\"Introduzca el peso en kg: \"))\n",
    "        if not (3 < peso < 180):\n",
    "            print(\"Peso fuera del rango. Inténtelo de nuevo.\")\n",
    "    return peso\n",
    "\n",
    "def datos_estatura():\n",
    "    estatura = 0\n",
    "    while not (0 < estatura <=2):\n",
    "        estatura = float(input(\"Introduzca su estatura en metros: \"))\n",
    "        if not (0 < estatura < 2):\n",
    "            print(\"Estatura fuera del rango. Inténtelo de nuevo.\")\n",
    "    return estatura\n",
    "\n",
    "def resultado():\n",
    "  # Obtener peso y estatura\n",
    " peso_valido = datos_peso()\n",
    " estatura_valida = datos_estatura()\n",
    "# Calcular el IMC\n",
    " imc = peso_valido / (estatura_valida ** 2)\n",
    "# Mostrar el resultado\n",
    " print(f\"Su IMC es: {imc:.2f}\")\n",
    " print(f\"Su nivel de índice de masa corporal es: {nivelpeso(imc)}\")\n",
    "\n",
    " #llamar a la funcion\n",
    "\n",
    "resultado()\n",
    "\n",
    "\n",
    "\n",
    "\n",
    "\n",
    "\n",
    "     "
   ]
  },
  {
   "cell_type": "markdown",
   "metadata": {},
   "source": [
    "Ejercicio 2 Conversor de temperaturas.Existen diversas unidades de temperatura utilizadas en distintos contextos y regiones. Las más comunes son Celsius (°C), Fahrenheit (°F) y Kelvin (K). También existen otras unidades como Rankine (°Ra) y Réaumur (°Re). Selecciona al menos 2 conversores, de modo que al introducir una temperatura devuelva, como mínimo, dos conversiones."
   ]
  },
  {
   "cell_type": "code",
   "execution_count": 34,
   "metadata": {},
   "outputs": [
    {
     "name": "stdout",
     "output_type": "stream",
     "text": [
      "La temperatura en Fahrenheit es: 104.00 ºF\n",
      "La temperatura en Kelvin es: 313.15 ºK\n"
     ]
    }
   ],
   "source": [
    "\n",
    "# Definición de los cálculos de temperaturas\n",
    "def celsius_a_fahrenheit(celsius):\n",
    "    return celsius * 9/5 + 32\n",
    "\n",
    "def celsius_a_kelvin(celsius):\n",
    "    return celsius + 273.15\n",
    "\n",
    "def obtener_temperatura():\n",
    "  temperatura_celsius=  float(input('Introduzca la temperatura en celsius:' ))\n",
    "  return temperatura_celsius\n",
    " \n",
    "def resultado():\n",
    "  temperatura = obtener_temperatura()  # Llamada correcta a obtener_temperatura()\n",
    "    # Convertir a Fahrenheit y Kelvin\n",
    "  resultado_fahrenheit = celsius_a_fahrenheit(temperatura)\n",
    "  print(f\"La temperatura en Fahrenheit es: {resultado_fahrenheit:.2f} ºF\")\n",
    "  resultado_kelvin = celsius_a_kelvin(temperatura)\n",
    "  print(f\"La temperatura en Kelvin es: {resultado_kelvin:.2f} ºK\")\n",
    "\n",
    "resultado()\n"
   ]
  },
  {
   "cell_type": "markdown",
   "metadata": {},
   "source": [
    "Ejercicio 3. Contador de palabras de un texto.Escribe una función que dado un texto, muestre las veces que aparece cada palabra.\n",
    "\n"
   ]
  },
  {
   "cell_type": "code",
   "execution_count": 25,
   "metadata": {},
   "outputs": [
    {
     "name": "stdout",
     "output_type": "stream",
     "text": [
      "La palabra repetida es: como: 1 veces\n",
      "La palabra repetida es: soy: 1 veces\n",
      "La palabra repetida es: reina: 1 veces\n",
      "La palabra repetida es: y: 4 veces\n",
      "La palabra repetida es: fui: 1 veces\n",
      "La palabra repetida es: mendiga: 1 veces\n",
      "La palabra repetida es: ahora: 2 veces\n",
      "La palabra repetida es: vivo: 1 veces\n",
      "La palabra repetida es: en: 2 veces\n",
      "La palabra repetida es: puro: 1 veces\n",
      "La palabra repetida es: temblor: 1 veces\n",
      "La palabra repetida es: de: 1 veces\n",
      "La palabra repetida es: que: 2 veces\n",
      "La palabra repetida es: me: 1 veces\n",
      "La palabra repetida es: dejes: 1 veces\n",
      "La palabra repetida es: te: 3 veces\n",
      "La palabra repetida es: pregunto: 2 veces\n",
      "La palabra repetida es: pálida: 1 veces\n",
      "La palabra repetida es: a: 1 veces\n",
      "La palabra repetida es: cada: 1 veces\n",
      "La palabra repetida es: hora: 1 veces\n",
      "La palabra repetida es: «¿estás: 1 veces\n",
      "La palabra repetida es: conmigo: 1 veces\n",
      "La palabra repetida es: aún: 1 veces\n",
      "La palabra repetida es: ¡ay: 1 veces\n",
      "La palabra repetida es: no: 1 veces\n",
      "La palabra repetida es: alejes»: 1 veces\n",
      "La palabra repetida es: quisiera: 1 veces\n",
      "La palabra repetida es: hacer: 1 veces\n",
      "La palabra repetida es: las: 1 veces\n",
      "La palabra repetida es: marchas: 1 veces\n",
      "La palabra repetida es: sonriendo: 1 veces\n",
      "La palabra repetida es: confiando: 1 veces\n",
      "La palabra repetida es: has: 2 veces\n",
      "La palabra repetida es: venido: 1 veces\n",
      "La palabra repetida es: pero: 1 veces\n",
      "La palabra repetida es: hasta: 1 veces\n",
      "La palabra repetida es: el: 1 veces\n",
      "La palabra repetida es: dormir: 1 veces\n",
      "La palabra repetida es: estoy: 1 veces\n",
      "La palabra repetida es: temiendo: 1 veces\n",
      "La palabra repetida es: entre: 1 veces\n",
      "La palabra repetida es: sueños: 1 veces\n",
      "La palabra repetida es: «¿no: 1 veces\n",
      "La palabra repetida es: ido»: 1 veces\n"
     ]
    }
   ],
   "source": [
    "#modulo STRING, el cual tiene diferentes usabilidades en este caso utilizare string.punctuation \n",
    "# es una constante de la biblioteca string que contiene diferentes caracteres de puntuación.\n",
    "import string\n",
    "\n",
    "def limpiar_palabras(texto):\n",
    "    # se crea una tabla para eliminar signos de puntuación\n",
    "    tabla_traduccion = str.maketrans('', '', string.punctuation)\n",
    "    # Se aplica la traduccion eliminando signos de puntuación y convertir todo a minúsculas\n",
    "    texto_sin_puntuacion = texto.translate(tabla_traduccion).lower()\n",
    "    # Dividir el texto en palabras\n",
    "    palabras = texto_sin_puntuacion.split()\n",
    "    return palabras\n",
    "\n",
    "def contador(palabras):\n",
    "    # contador de frecuencia de cada palabra,para luego crear el diccionario\n",
    "    contador = {}\n",
    "    \n",
    "    for contar in palabras:\n",
    "        if contar in contador:\n",
    "            contador[contar] += 1\n",
    "        else:\n",
    "            contador[contar] = 1\n",
    "    \n",
    "    return contador\n",
    "    \n",
    "def imprimir(contador):\n",
    "      # Mostrar el conteo de palabras\n",
    "    for contar, frecuencia in contador.items():\n",
    "        print(f\"La palabra repetida es: {contar}: {frecuencia} veces\")\n",
    "\n",
    "def datos_usuario():\n",
    "# Pedir al usuario que introduzca el texto\n",
    "  texto_ingresado = input(\"Introduce el texto para contar las palabras: \")\n",
    "  palabras_limpias = limpiar_palabras(texto_ingresado)\n",
    "  palabras_resultado = contador(palabras_limpias)\n",
    "  imprimir(palabras_resultado)\n",
    "\n",
    "datos_usuario()\n"
   ]
  },
  {
   "cell_type": "markdown",
   "metadata": {},
   "source": [
    "Ejercicio 4 Diccionario inverso.\n",
    "Resulta que el cliente tiene una encuesta muy antigua que se almacena en un diccionario y los resultados los necesita a la inversa, es decir, intercambiados las claves y valores. Los valores y claves en el diccionario original son únicos; si éste no es el caso, la función debería imprimir un mensaje de advertencia."
   ]
  },
  {
   "cell_type": "code",
   "execution_count": 28,
   "metadata": {},
   "outputs": [
    {
     "name": "stdout",
     "output_type": "stream",
     "text": [
      "ADVERTENCIA!!! El valor 'rojo' está repetido, omitiendo la clave '6'.\n",
      "None\n"
     ]
    }
   ],
   "source": [
    "# defino mi funcion\n",
    "def inversor_diccionario(original):\n",
    "    # guardo el diccionario invertido\n",
    "    invertido=  {}\n",
    "    # Recorrer los elementos del diccionario original, validando si el valor es unico\n",
    "    for clave, valor in original.items():\n",
    "      if valor in invertido:\n",
    "        print(f\"ADVERTENCIA!!! El valor '{valor}' está repetido, omitiendo la clave '{clave}'.\")\n",
    "        return None\n",
    "      else:\n",
    "        invertido[valor] = clave\n",
    "    return invertido\n",
    "\n",
    "#se creo el diccionario y se hace el llamado \n",
    "original= {1:\"amarillo\", 2:\"azul\",3:\"rojo\",4:\"verde\",5:\"naranja\",6:\"rojo\"}    \n",
    "invertido = inversor_diccionario(original)\n",
    "print(invertido)\n"
   ]
  },
  {
   "cell_type": "code",
   "execution_count": null,
   "metadata": {},
   "outputs": [],
   "source": []
  }
 ],
 "metadata": {
  "kernelspec": {
   "display_name": "Python 3",
   "language": "python",
   "name": "python3"
  },
  "language_info": {
   "codemirror_mode": {
    "name": "ipython",
    "version": 3
   },
   "file_extension": ".py",
   "mimetype": "text/x-python",
   "name": "python",
   "nbconvert_exporter": "python",
   "pygments_lexer": "ipython3",
   "version": "3.12.0"
  }
 },
 "nbformat": 4,
 "nbformat_minor": 2
}
