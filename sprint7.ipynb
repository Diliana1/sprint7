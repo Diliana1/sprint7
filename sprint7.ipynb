{
 "cells": [
  {
   "cell_type": "markdown",
   "metadata": {},
   "source": [
    "Escribe una función que calcule el IMC ingresado por el usuario/a, es decir, quien lo ejecute deberá ingresar estos datos. "
   ]
  },
  {
   "cell_type": "code",
   "execution_count": 54,
   "metadata": {},
   "outputs": [
    {
     "name": "stdout",
     "output_type": "stream",
     "text": [
      "su nivel de peso es Obesidad\n"
     ]
    }
   ],
   "source": [
    "# - Le asigne un valor a la variable peso de tipo decimal, para solicitar el valor del peso al usuario de igual forma lo realice para la variable estatura.\n",
    "#luego asigne la formula a la variable IMC para realizar el cálculo y se manda a imprimir para q así sea visto en pantalla, se usa f que es un string en la visualización para que me muestre el mensaje de la variable IMC .\n",
    "#calculo del peso\n",
    "def calculo_imc(pe,est):\n",
    "   return  pe / (est ** 2) \n",
    "#valores de IMC\n",
    "def nivelpeso(imc):\n",
    "  if imc <  18.5:\n",
    "   return \"bajo peso\"\n",
    "  elif imc >= 18.5 and  imc < 25:\n",
    "   return \"Normal\"\n",
    "  elif imc >= 25 and imc < 30:\n",
    "   return \"Sobrepeso\"\n",
    "  else:\n",
    "   return \"Obesidad\"\n",
    "\n",
    "# solicitar los datos al usuario\n",
    "peso= float(input(\"introduce tu peso en kg:   \"))\n",
    "estatura = float( input(\"Introduce tu estatura en metros m:  \"))\n",
    "print(\"su nivel de peso es\", (nivelpeso(calculo_imc(peso,estatura))))"
   ]
  },
  {
   "cell_type": "markdown",
   "metadata": {},
   "source": [
    "Conversor de temperaturas.Existen diversas unidades de temperatura utilizadas en distintos contextos y regiones. Las más comunes son Celsius (°C), Fahrenheit (°F) y Kelvin (K). También existen otras unidades como Rankine (°Ra) y Réaumur (°Re). Selecciona al menos 2 conversores, de modo que al introducir una temperatura devuelva, como mínimo, dos conversiones."
   ]
  },
  {
   "cell_type": "code",
   "execution_count": 55,
   "metadata": {},
   "outputs": [
    {
     "name": "stdout",
     "output_type": "stream",
     "text": [
      "La temperatura es: 86.00 ºf\n",
      "La temperatura es: 303.15 ºk\n"
     ]
    }
   ],
   "source": [
    "# definicion de calculos de temperauras\n",
    "def celsius_a_fahrenheit(celsius):\n",
    "    return celsius * 9/5 + 32\n",
    "def celsius_a_kelvin(celsius):\n",
    "    return celsius + 273.15\n",
    "\n",
    "# solicitud de temperatura\n",
    "temperatura= float(input(\"introduce la temperatura en ºC:  \"))\n",
    "\n",
    "#llamo la funcion para obtener el resultado y la imprimo\n",
    "\n",
    "resultado=celsius_a_fahrenheit(temperatura)\n",
    "print(f\"La temperatura es: {resultado:.2f} ºf\") \n",
    "resultado=celsius_a_kelvin(temperatura)\n",
    "print(f\"La temperatura es: {resultado:.2f} ºk\") \n",
    "\n",
    " \n",
    "\n",
    "\n"
   ]
  },
  {
   "cell_type": "markdown",
   "metadata": {},
   "source": [
    "Contador de palabras de un texto.Escribe una función que dado un texto, muestre las veces que aparece cada palabra.\n",
    "\n"
   ]
  },
  {
   "cell_type": "code",
   "execution_count": 61,
   "metadata": {},
   "outputs": [
    {
     "name": "stdout",
     "output_type": "stream",
     "text": [
      "La palabra repetida es:hola: 1 veces\n",
      "La palabra repetida es:buenas: 1 veces\n",
      "La palabra repetida es:tardes: 1 veces\n",
      "La palabra repetida es:mi: 3 veces\n",
      "La palabra repetida es:nombre: 1 veces\n",
      "La palabra repetida es:apelido: 1 veces\n",
      "La palabra repetida es:edad: 1 veces\n"
     ]
    }
   ],
   "source": [
    "#modulo STRING, el cual tiene diferentes usabilidades en este caso utilizare string.punctuation \n",
    "# es una constante de la biblioteca string que contiene diferentes caracteres de puntuación.\n",
    "import string\n",
    "\n",
    "def contar_palabras(texto):\n",
    "    # se crea una tabla para eliminar signos de puntuación\n",
    "    tabla_traduccion = str.maketrans('', '', string.punctuation)\n",
    "    \n",
    "    # Se aplica la traduccion eliminando signos de puntuación y convertir todo a minúsculas\n",
    "    texto_sin_puntuacion = texto.translate(tabla_traduccion).lower()\n",
    "    \n",
    "    # Dividir el texto en palabras\n",
    "    palabras = texto_sin_puntuacion.split()\n",
    "    \n",
    "    # contador de frecuencia de cada palabra,para luego crear el diccionario\n",
    "    contador = {}\n",
    "    \n",
    "    for contar in palabras:\n",
    "        if contar in contador:\n",
    "            contador[contar] += 1\n",
    "        else:\n",
    "            contador[contar] = 1\n",
    "    \n",
    "    # Mostrar el conteo de palabras\n",
    "    for contar, frecuencia in contador.items():\n",
    "        print(f\"La palabra repetida es: {contar}: {frecuencia} veces\")\n",
    "\n",
    "# Pedir al usuario que introduzca el texto\n",
    "texto_ingresado = input(\"Introduce el texto para contar las palabras: \")\n",
    "contar_palabras(texto_ingresado)\n"
   ]
  },
  {
   "cell_type": "markdown",
   "metadata": {},
   "source": [
    "Diccionario inverso.\n",
    "Resulta que el cliente tiene una encuesta muy antigua que se almacena en un diccionario y los resultados los necesita a la inversa, es decir, intercambiados las claves y valores. Los valores y claves en el diccionario original son únicos; si éste no es el caso, la función debería imprimir un mensaje de advertencia."
   ]
  },
  {
   "cell_type": "code",
   "execution_count": 63,
   "metadata": {},
   "outputs": [
    {
     "name": "stdout",
     "output_type": "stream",
     "text": [
      "ADVERTENCIA!!! El valor 'azul' está repetido, omitiendo la clave '6'.\n",
      "None\n"
     ]
    }
   ],
   "source": [
    "# defino mi funcion\n",
    "def inversor_diccionario(original):\n",
    "    # guardo el diccionario invertido\n",
    "    invertido=  {}\n",
    "    # Recorrer los elementos del diccionario original, validando si el valor es unico\n",
    "    for clave, valor in original.items():\n",
    "      if valor in invertido:\n",
    "        print(f\"ADVERTENCIA!!! El valor '{valor}' está repetido, omitiendo la clave '{clave}'.\")\n",
    "        return None\n",
    "      else:\n",
    "        invertido[valor] = clave\n",
    "    return invertido\n",
    "\n",
    "#se creo el diccionario y se hace el llamado \n",
    "original= {1:\"amarillo\", 2:\"azul\",3:\"rojo\",4:\"verde\",5:\"naranja\",6:\"azul\"}    \n",
    "invertido = inversor_diccionario(original)\n",
    "print(invertido)\n"
   ]
  }
 ],
 "metadata": {
  "language_info": {
   "name": "python"
  }
 },
 "nbformat": 4,
 "nbformat_minor": 2
}
